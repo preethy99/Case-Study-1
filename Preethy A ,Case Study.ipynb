{
 "cells": [
  {
   "cell_type": "markdown",
   "id": "753a3d5d",
   "metadata": {},
   "source": [
    "  # Case Study on Regression\n"
   ]
  },
  {
   "cell_type": "code",
   "execution_count": 174,
   "id": "d136742e",
   "metadata": {},
   "outputs": [],
   "source": [
    "#The given dataset contains price of second-hand Hyundai grand i10 car with\n",
    "#respect to year of making. Find the best linear relationship between year and\n",
    "#price. Can you predict the possible price of a 2022 model second-hand grand i10?\n",
    "#Please learn about lasso regression and create a model along with linear\n",
    "#regression. Find out which one is performing better.\n"
   ]
  },
  {
   "cell_type": "markdown",
   "id": "620748f8",
   "metadata": {},
   "source": [
    "# linear regression"
   ]
  },
  {
   "cell_type": "code",
   "execution_count": 175,
   "id": "c05545a0",
   "metadata": {},
   "outputs": [],
   "source": [
    "import numpy as np\n",
    "import pandas as pd\n",
    "import matplotlib.pyplot as plt\n",
    "import seaborn as sns"
   ]
  },
  {
   "cell_type": "code",
   "execution_count": 176,
   "id": "0329a449",
   "metadata": {},
   "outputs": [],
   "source": [
    "# reading the file to python environment"
   ]
  },
  {
   "cell_type": "code",
   "execution_count": 177,
   "id": "3e3b3322",
   "metadata": {},
   "outputs": [],
   "source": [
    "data=pd.read_csv(r'C:\\Users\\Preethy\\Downloads\\carageprice.csv')"
   ]
  },
  {
   "cell_type": "code",
   "execution_count": 178,
   "id": "f1371e48",
   "metadata": {},
   "outputs": [
    {
     "data": {
      "text/plain": [
       "(112, 2)"
      ]
     },
     "execution_count": 178,
     "metadata": {},
     "output_type": "execute_result"
    }
   ],
   "source": [
    "data.shape"
   ]
  },
  {
   "cell_type": "code",
   "execution_count": 179,
   "id": "86e0e29f",
   "metadata": {},
   "outputs": [
    {
     "data": {
      "text/html": [
       "<div>\n",
       "<style scoped>\n",
       "    .dataframe tbody tr th:only-of-type {\n",
       "        vertical-align: middle;\n",
       "    }\n",
       "\n",
       "    .dataframe tbody tr th {\n",
       "        vertical-align: top;\n",
       "    }\n",
       "\n",
       "    .dataframe thead th {\n",
       "        text-align: right;\n",
       "    }\n",
       "</style>\n",
       "<table border=\"1\" class=\"dataframe\">\n",
       "  <thead>\n",
       "    <tr style=\"text-align: right;\">\n",
       "      <th></th>\n",
       "      <th>Year</th>\n",
       "      <th>Price</th>\n",
       "    </tr>\n",
       "  </thead>\n",
       "  <tbody>\n",
       "    <tr>\n",
       "      <th>0</th>\n",
       "      <td>2018</td>\n",
       "      <td>465000</td>\n",
       "    </tr>\n",
       "    <tr>\n",
       "      <th>1</th>\n",
       "      <td>2019</td>\n",
       "      <td>755000</td>\n",
       "    </tr>\n",
       "    <tr>\n",
       "      <th>2</th>\n",
       "      <td>2019</td>\n",
       "      <td>700000</td>\n",
       "    </tr>\n",
       "    <tr>\n",
       "      <th>3</th>\n",
       "      <td>2018</td>\n",
       "      <td>465000</td>\n",
       "    </tr>\n",
       "    <tr>\n",
       "      <th>4</th>\n",
       "      <td>2018</td>\n",
       "      <td>465000</td>\n",
       "    </tr>\n",
       "  </tbody>\n",
       "</table>\n",
       "</div>"
      ],
      "text/plain": [
       "   Year   Price\n",
       "0  2018  465000\n",
       "1  2019  755000\n",
       "2  2019  700000\n",
       "3  2018  465000\n",
       "4  2018  465000"
      ]
     },
     "execution_count": 179,
     "metadata": {},
     "output_type": "execute_result"
    }
   ],
   "source": [
    "data.head()"
   ]
  },
  {
   "cell_type": "code",
   "execution_count": 180,
   "id": "3938a223",
   "metadata": {},
   "outputs": [
    {
     "name": "stdout",
     "output_type": "stream",
     "text": [
      "<class 'pandas.core.frame.DataFrame'>\n",
      "RangeIndex: 112 entries, 0 to 111\n",
      "Data columns (total 2 columns):\n",
      " #   Column  Non-Null Count  Dtype\n",
      "---  ------  --------------  -----\n",
      " 0   Year    112 non-null    int64\n",
      " 1   Price   112 non-null    int64\n",
      "dtypes: int64(2)\n",
      "memory usage: 1.9 KB\n"
     ]
    }
   ],
   "source": [
    "data.info()"
   ]
  },
  {
   "cell_type": "code",
   "execution_count": 181,
   "id": "38f7613d",
   "metadata": {},
   "outputs": [
    {
     "data": {
      "text/html": [
       "<div>\n",
       "<style scoped>\n",
       "    .dataframe tbody tr th:only-of-type {\n",
       "        vertical-align: middle;\n",
       "    }\n",
       "\n",
       "    .dataframe tbody tr th {\n",
       "        vertical-align: top;\n",
       "    }\n",
       "\n",
       "    .dataframe thead th {\n",
       "        text-align: right;\n",
       "    }\n",
       "</style>\n",
       "<table border=\"1\" class=\"dataframe\">\n",
       "  <thead>\n",
       "    <tr style=\"text-align: right;\">\n",
       "      <th></th>\n",
       "      <th>Year</th>\n",
       "      <th>Price</th>\n",
       "    </tr>\n",
       "  </thead>\n",
       "  <tbody>\n",
       "    <tr>\n",
       "      <th>count</th>\n",
       "      <td>112.000000</td>\n",
       "      <td>112.000000</td>\n",
       "    </tr>\n",
       "    <tr>\n",
       "      <th>mean</th>\n",
       "      <td>2016.669643</td>\n",
       "      <td>483866.044643</td>\n",
       "    </tr>\n",
       "    <tr>\n",
       "      <th>std</th>\n",
       "      <td>1.629616</td>\n",
       "      <td>91217.450533</td>\n",
       "    </tr>\n",
       "    <tr>\n",
       "      <th>min</th>\n",
       "      <td>2013.000000</td>\n",
       "      <td>300000.000000</td>\n",
       "    </tr>\n",
       "    <tr>\n",
       "      <th>25%</th>\n",
       "      <td>2015.000000</td>\n",
       "      <td>423750.000000</td>\n",
       "    </tr>\n",
       "    <tr>\n",
       "      <th>50%</th>\n",
       "      <td>2017.000000</td>\n",
       "      <td>500000.000000</td>\n",
       "    </tr>\n",
       "    <tr>\n",
       "      <th>75%</th>\n",
       "      <td>2017.000000</td>\n",
       "      <td>550000.000000</td>\n",
       "    </tr>\n",
       "    <tr>\n",
       "      <th>max</th>\n",
       "      <td>2020.000000</td>\n",
       "      <td>755000.000000</td>\n",
       "    </tr>\n",
       "  </tbody>\n",
       "</table>\n",
       "</div>"
      ],
      "text/plain": [
       "              Year          Price\n",
       "count   112.000000     112.000000\n",
       "mean   2016.669643  483866.044643\n",
       "std       1.629616   91217.450533\n",
       "min    2013.000000  300000.000000\n",
       "25%    2015.000000  423750.000000\n",
       "50%    2017.000000  500000.000000\n",
       "75%    2017.000000  550000.000000\n",
       "max    2020.000000  755000.000000"
      ]
     },
     "execution_count": 181,
     "metadata": {},
     "output_type": "execute_result"
    }
   ],
   "source": [
    "data.describe()"
   ]
  },
  {
   "cell_type": "code",
   "execution_count": 182,
   "id": "aac4087e",
   "metadata": {},
   "outputs": [],
   "source": [
    "#checking for missing values"
   ]
  },
  {
   "cell_type": "code",
   "execution_count": 183,
   "id": "919c590d",
   "metadata": {},
   "outputs": [
    {
     "data": {
      "text/plain": [
       "Year     0\n",
       "Price    0\n",
       "dtype: int64"
      ]
     },
     "execution_count": 183,
     "metadata": {},
     "output_type": "execute_result"
    }
   ],
   "source": [
    "data.isna().sum()"
   ]
  },
  {
   "cell_type": "code",
   "execution_count": 184,
   "id": "29ee934d",
   "metadata": {},
   "outputs": [
    {
     "data": {
      "text/plain": [
       "Year      8\n",
       "Price    35\n",
       "dtype: int64"
      ]
     },
     "execution_count": 184,
     "metadata": {},
     "output_type": "execute_result"
    }
   ],
   "source": [
    "data.nunique()"
   ]
  },
  {
   "cell_type": "code",
   "execution_count": 185,
   "id": "21d9d7f5",
   "metadata": {},
   "outputs": [],
   "source": [
    "# a heat map is created to find out the correlation"
   ]
  },
  {
   "cell_type": "code",
   "execution_count": 186,
   "id": "17efc374",
   "metadata": {},
   "outputs": [
    {
     "data": {
      "image/png": "[encoded data removed]",
      "text/plain": [
       "<Figure size 576x288 with 2 Axes>"
      ]
     },
     "metadata": {
      "needs_background": "light"
     },
     "output_type": "display_data"
    }
   ],
   "source": [
    "corrmatrix=data.corr()\n",
    "plt.subplots(figsize=(8,4))\n",
    "sns.heatmap(corrmatrix,annot=True,cmap='YlGn')\n",
    "plt.show()"
   ]
  },
  {
   "cell_type": "code",
   "execution_count": 187,
   "id": "4bc5ced3",
   "metadata": {},
   "outputs": [
    {
     "data": {
      "text/plain": [
       "Index(['Year', 'Price'], dtype='object')"
      ]
     },
     "execution_count": 187,
     "metadata": {},
     "output_type": "execute_result"
    }
   ],
   "source": [
    "data.columns"
   ]
  },
  {
   "cell_type": "code",
   "execution_count": 188,
   "id": "50bca742",
   "metadata": {},
   "outputs": [],
   "source": [
    "# model creation"
   ]
  },
  {
   "cell_type": "code",
   "execution_count": 189,
   "id": "af4da2f2",
   "metadata": {},
   "outputs": [],
   "source": [
    "y= data['Price']\n",
    "x= data.drop(['Price'],axis=1)"
   ]
  },
  {
   "cell_type": "code",
   "execution_count": 190,
   "id": "5f6e627e",
   "metadata": {},
   "outputs": [],
   "source": [
    "from sklearn.model_selection import train_test_split"
   ]
  },
  {
   "cell_type": "code",
   "execution_count": 191,
   "id": "b935607e",
   "metadata": {},
   "outputs": [],
   "source": [
    "x_train,x_test,y_train,y_test=train_test_split(x,y,test_size=0.2,random_state=42)"
   ]
  },
  {
   "cell_type": "code",
   "execution_count": 192,
   "id": "e849c9e6",
   "metadata": {},
   "outputs": [
    {
     "name": "stdout",
     "output_type": "stream",
     "text": [
      "[[0.71428571 0.36263736]\n",
      " [0.85714286 1.        ]\n",
      " [0.85714286 0.87912088]\n",
      " [0.71428571 0.36263736]\n",
      " [0.71428571 0.36263736]\n",
      " [0.28571429 0.10989011]\n",
      " [0.42857143 0.27472527]\n",
      " [0.57142857 0.6043956 ]\n",
      " [0.57142857 0.46153626]\n",
      " [0.57142857 0.6043956 ]\n",
      " [0.85714286 0.43956044]\n",
      " [0.71428571 0.43956044]\n",
      " [0.57142857 0.43956044]\n",
      " [0.85714286 0.65934066]\n",
      " [0.57142857 0.38461538]\n",
      " [0.57142857 0.43956044]\n",
      " [0.57142857 0.43956044]\n",
      " [0.57142857 0.54945055]\n",
      " [0.85714286 0.43956044]\n",
      " [0.57142857 0.43956044]\n",
      " [0.71428571 0.43956044]\n",
      " [0.85714286 0.43956044]\n",
      " [0.28571429 0.2967011 ]\n",
      " [0.57142857 0.54945055]\n",
      " [0.57142857 0.54945055]\n",
      " [0.57142857 0.54945055]\n",
      " [0.57142857 0.54945055]\n",
      " [0.57142857 0.54945055]\n",
      " [0.57142857 0.54945055]\n",
      " [0.57142857 0.54945055]\n",
      " [0.85714286 0.76923077]\n",
      " [0.57142857 0.54945055]\n",
      " [0.57142857 0.54945055]\n",
      " [0.57142857 0.54945055]\n",
      " [0.57142857 0.32967033]\n",
      " [0.57142857 0.54945055]\n",
      " [0.57142857 0.54945055]\n",
      " [0.57142857 0.40879121]\n",
      " [0.71428571 0.38461538]\n",
      " [1.         0.53846154]\n",
      " [0.85714286 0.49450549]\n",
      " [0.85714286 0.65934066]\n",
      " [0.71428571 0.54945055]\n",
      " [0.85714286 0.54945055]\n",
      " [0.85714286 0.54945055]\n",
      " [0.71428571 0.32967033]\n",
      " [0.85714286 0.43956044]\n",
      " [0.71428571 0.32967033]\n",
      " [0.42857143 0.21098901]\n",
      " [0.71428571 0.65934066]\n",
      " [0.         0.05494505]\n",
      " [0.71428571 0.54945055]\n",
      " [0.         0.0989011 ]\n",
      " [0.         0.0989011 ]\n",
      " [0.57142857 0.49450549]\n",
      " [0.57142857 0.54945055]\n",
      " [0.14285714 0.09010989]\n",
      " [0.57142857 0.54945055]\n",
      " [0.14285714 0.32967033]\n",
      " [0.42857143 0.54945055]\n",
      " [0.28571429 0.41758242]\n",
      " [0.57142857 0.52747253]\n",
      " [0.57142857 0.52747253]\n",
      " [0.57142857 0.64835165]\n",
      " [0.28571429 0.41758242]\n",
      " [0.57142857 0.42857143]\n",
      " [0.57142857 0.49450549]\n",
      " [0.28571429 0.21978022]\n",
      " [0.28571429 0.36263736]\n",
      " [0.28571429 0.        ]\n",
      " [0.28571429 0.32967033]\n",
      " [0.57142857 0.41758242]\n",
      " [0.28571429 0.        ]\n",
      " [0.         0.04395604]\n",
      " [0.57142857 0.41758242]\n",
      " [0.57142857 0.41758242]\n",
      " [0.28571429 0.32967033]\n",
      " [0.28571429 0.05494505]\n",
      " [0.28571429 0.24175604]\n",
      " [0.28571429 0.21978022]\n",
      " [0.28571429 0.1978022 ]\n",
      " [0.14285714 0.1978022 ]\n",
      " [0.28571429 0.1978022 ]\n",
      " [0.57142857 0.3956044 ]\n",
      " [0.28571429 0.05494505]\n",
      " [0.28571429 0.04395604]\n",
      " [0.57142857 0.48351648]\n",
      " [0.57142857 0.48351648]\n",
      " [0.57142857 0.48351648]\n",
      " [0.57142857 0.48351648]\n",
      " [0.57142857 0.48351648]\n",
      " [0.57142857 0.48351648]\n",
      " [0.57142857 0.48351648]\n",
      " [0.57142857 0.48351648]\n",
      " [0.57142857 0.48351648]\n",
      " [0.57142857 0.48351648]\n",
      " [0.57142857 0.48351648]\n",
      " [1.         0.74725275]\n",
      " [1.         0.87912088]\n",
      " [1.         0.65934066]\n",
      " [0.42857143 0.10989011]\n",
      " [0.28571429 0.21978022]\n",
      " [0.28571429 0.10989011]\n",
      " [0.57142857 0.16483516]\n",
      " [0.14285714 0.21978022]\n",
      " [0.14285714 0.21978022]\n",
      " [0.28571429 0.        ]\n",
      " [0.42857143 0.16483516]\n",
      " [0.14285714 0.        ]\n",
      " [0.28571429 0.27472527]\n",
      " [0.42857143 0.26373626]\n",
      " [0.28571429 0.27472527]]\n"
     ]
    }
   ],
   "source": [
    "from sklearn.preprocessing import MinMaxScaler\n",
    "scaler = MinMaxScaler()\n",
    "model=scaler.fit(data)\n",
    "scaled_data=model.transform(data)\n",
    " \n",
    "# print scaled features\n",
    "print(scaled_data)"
   ]
  },
  {
   "cell_type": "code",
   "execution_count": 193,
   "id": "43899959",
   "metadata": {},
   "outputs": [],
   "source": [
    "from sklearn.linear_model import LinearRegression"
   ]
  },
  {
   "cell_type": "code",
   "execution_count": 194,
   "id": "cf6323e2",
   "metadata": {},
   "outputs": [],
   "source": [
    "lr=LinearRegression()\n",
    "model= lr.fit(x_train,y_train)\n",
    "predictions=model.predict(x_test)"
   ]
  },
  {
   "cell_type": "code",
   "execution_count": 195,
   "id": "51d85487",
   "metadata": {},
   "outputs": [
    {
     "data": {
      "text/plain": [
       "40     525000\n",
       "65     495000\n",
       "4      465000\n",
       "47     450000\n",
       "42     550000\n",
       "69     300000\n",
       "26     550000\n",
       "11     500000\n",
       "10     500000\n",
       "44     550000\n",
       "73     320000\n",
       "55     550000\n",
       "68     465000\n",
       "97     640000\n",
       "0      465000\n",
       "18     500000\n",
       "53     345000\n",
       "80     390000\n",
       "103    375000\n",
       "91     520000\n",
       "36     550000\n",
       "12     500000\n",
       "31     550000\n",
       "Name: Price, dtype: int64"
      ]
     },
     "execution_count": 195,
     "metadata": {},
     "output_type": "execute_result"
    }
   ],
   "source": [
    "y_test"
   ]
  },
  {
   "cell_type": "code",
   "execution_count": 196,
   "id": "672addad",
   "metadata": {},
   "outputs": [
    {
     "data": {
      "text/plain": [
       "array([600775.91252081, 505558.77690466, 553167.34471273, 553167.34471273,\n",
       "       553167.34471273, 410341.6412885 , 505558.77690466, 553167.34471273,\n",
       "       600775.91252081, 600775.91252081, 315124.50567235, 505558.77690466,\n",
       "       410341.6412885 , 648384.48032889, 553167.34471273, 600775.91252081,\n",
       "       315124.50567235, 410341.6412885 , 505558.77690466, 505558.77690466,\n",
       "       505558.77690466, 505558.77690466, 505558.77690466])"
      ]
     },
     "execution_count": 196,
     "metadata": {},
     "output_type": "execute_result"
    }
   ],
   "source": [
    "predictions"
   ]
  },
  {
   "cell_type": "code",
   "execution_count": 197,
   "id": "3a8adc33",
   "metadata": {},
   "outputs": [],
   "source": [
    "from sklearn.metrics import mean_squared_error,r2_score"
   ]
  },
  {
   "cell_type": "code",
   "execution_count": 198,
   "id": "cb3c2a3e",
   "metadata": {},
   "outputs": [
    {
     "name": "stdout",
     "output_type": "stream",
     "text": [
      "mean squared error is: 4326906256.829671\n",
      "R squared value is: 0.36759313425902185\n"
     ]
    }
   ],
   "source": [
    "print('mean squared error is:',mean_squared_error(y_test,predictions))\n",
    "print('R squared value is:',r2_score(y_test,predictions))"
   ]
  },
  {
   "cell_type": "code",
   "execution_count": 199,
   "id": "981a322a",
   "metadata": {},
   "outputs": [],
   "source": [
    "x2=data['Year']\n",
    "y2=data['Price']"
   ]
  },
  {
   "cell_type": "code",
   "execution_count": 200,
   "id": "884080bf",
   "metadata": {},
   "outputs": [
    {
     "data": {
      "image/png": "[encoded data removed]",
      "text/plain": [
       "<Figure size 432x288 with 1 Axes>"
      ]
     },
     "metadata": {
      "needs_background": "light"
     },
     "output_type": "display_data"
    }
   ],
   "source": [
    "plt.plot(x2,y2)\n",
    "plt.show()"
   ]
  },
  {
   "cell_type": "code",
   "execution_count": 201,
   "id": "52969542",
   "metadata": {
    "scrolled": true
   },
   "outputs": [
    {
     "data": {
      "image/png": "[encoded data removed]",
      "text/plain": [
       "<Figure size 432x288 with 1 Axes>"
      ]
     },
     "metadata": {
      "needs_background": "light"
     },
     "output_type": "display_data"
    }
   ],
   "source": [
    "plt.bar(data['Year'],data['Price'])\n",
    "plt.xticks(rotation=90)\n",
    "plt.show()"
   ]
  },
  {
   "cell_type": "code",
   "execution_count": 202,
   "id": "8e0bc5c3",
   "metadata": {},
   "outputs": [],
   "source": [
    "# so the possible price of a 2022 model second-hand grand i10 is ~800000"
   ]
  },
  {
   "cell_type": "markdown",
   "id": "85f474f1",
   "metadata": {},
   "source": [
    "# lasso regression"
   ]
  },
  {
   "cell_type": "code",
   "execution_count": 203,
   "id": "466493ba",
   "metadata": {},
   "outputs": [],
   "source": [
    "y2= data['Price']\n",
    "x2= data.drop(['Price'],axis=1)"
   ]
  },
  {
   "cell_type": "code",
   "execution_count": 204,
   "id": "4cf31744",
   "metadata": {},
   "outputs": [],
   "source": [
    "x2_train,x2_test,y2_train,y2_test=train_test_split(x2,y2,test_size=0.2,random_state=42)"
   ]
  },
  {
   "cell_type": "code",
   "execution_count": 205,
   "id": "f5c5cc5e",
   "metadata": {},
   "outputs": [
    {
     "data": {
      "text/plain": [
       "(89, 1)"
      ]
     },
     "execution_count": 205,
     "metadata": {},
     "output_type": "execute_result"
    }
   ],
   "source": [
    "x2_train.shape"
   ]
  },
  {
   "cell_type": "code",
   "execution_count": 206,
   "id": "a0e2b459",
   "metadata": {},
   "outputs": [
    {
     "data": {
      "text/plain": [
       "(89,)"
      ]
     },
     "execution_count": 206,
     "metadata": {},
     "output_type": "execute_result"
    }
   ],
   "source": [
    "y2_train.shape"
   ]
  },
  {
   "cell_type": "code",
   "execution_count": 207,
   "id": "3f7b2d62",
   "metadata": {},
   "outputs": [
    {
     "data": {
      "text/plain": [
       "40     525000\n",
       "65     495000\n",
       "4      465000\n",
       "47     450000\n",
       "42     550000\n",
       "69     300000\n",
       "26     550000\n",
       "11     500000\n",
       "10     500000\n",
       "44     550000\n",
       "73     320000\n",
       "55     550000\n",
       "68     465000\n",
       "97     640000\n",
       "0      465000\n",
       "18     500000\n",
       "53     345000\n",
       "80     390000\n",
       "103    375000\n",
       "91     520000\n",
       "36     550000\n",
       "12     500000\n",
       "31     550000\n",
       "Name: Price, dtype: int64"
      ]
     },
     "execution_count": 207,
     "metadata": {},
     "output_type": "execute_result"
    }
   ],
   "source": [
    "y2_test"
   ]
  },
  {
   "cell_type": "code",
   "execution_count": 208,
   "id": "f714574b",
   "metadata": {},
   "outputs": [],
   "source": [
    "from sklearn.linear_model import Lasso"
   ]
  },
  {
   "cell_type": "code",
   "execution_count": 209,
   "id": "71daaa35",
   "metadata": {},
   "outputs": [],
   "source": [
    "lasso = Lasso(alpha=1.0)"
   ]
  },
  {
   "cell_type": "code",
   "execution_count": 210,
   "id": "606dd6f2",
   "metadata": {},
   "outputs": [
    {
     "data": {
      "text/plain": [
       "Lasso()"
      ]
     },
     "execution_count": 210,
     "metadata": {},
     "output_type": "execute_result"
    }
   ],
   "source": [
    "lasso.fit(x2_train,y2_train)"
   ]
  },
  {
   "cell_type": "code",
   "execution_count": 211,
   "id": "e79f44fb",
   "metadata": {},
   "outputs": [],
   "source": [
    "y2_pred = lasso.predict(x2_test)"
   ]
  },
  {
   "cell_type": "code",
   "execution_count": 212,
   "id": "aec8c105",
   "metadata": {},
   "outputs": [
    {
     "data": {
      "text/plain": [
       "array([600774.90747294, 505558.59627394, 553166.75187345, 553166.75187345,\n",
       "       553166.75187345, 410342.28507493, 505558.59627394, 553166.75187345,\n",
       "       600774.90747294, 600774.90747294, 315125.97387594, 505558.59627394,\n",
       "       410342.28507493, 648383.06307244, 553166.75187345, 600774.90747294,\n",
       "       315125.97387594, 410342.28507493, 505558.59627394, 505558.59627394,\n",
       "       505558.59627394, 505558.59627394, 505558.59627394])"
      ]
     },
     "execution_count": 212,
     "metadata": {},
     "output_type": "execute_result"
    }
   ],
   "source": [
    "y2_pred"
   ]
  },
  {
   "cell_type": "code",
   "execution_count": 213,
   "id": "05219071",
   "metadata": {},
   "outputs": [
    {
     "name": "stdout",
     "output_type": "stream",
     "text": [
      "mean squared error is: 4326859771.015669\n",
      "R squared value is: 0.3675999284778446\n"
     ]
    }
   ],
   "source": [
    "print('mean squared error is:',mean_squared_error(y2_test,y2_pred))\n",
    "print('R squared value is:',r2_score(y2_test,y2_pred))"
   ]
  },
  {
   "cell_type": "code",
   "execution_count": 172,
   "id": "2abb7ad8",
   "metadata": {},
   "outputs": [],
   "source": [
    "# In this case both linear and lasso regression is giving almost similar values."
   ]
  }
 ],
 "metadata": {
  "kernelspec": {
   "display_name": "Python 3 (ipykernel)",
   "language": "python",
   "name": "python3"
  },
  "language_info": {
   "codemirror_mode": {
    "name": "ipython",
    "version": 3
   },
   "file_extension": ".py",
   "mimetype": "text/x-python",
   "name": "python",
   "nbconvert_exporter": "python",
   "pygments_lexer": "ipython3",
   "version": "3.9.12"
  }
 },
 "nbformat": 4,
 "nbformat_minor": 5
}
